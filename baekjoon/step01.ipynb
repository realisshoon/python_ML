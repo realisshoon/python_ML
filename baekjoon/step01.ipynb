{
 "cells": [
  {
   "cell_type": "markdown",
   "id": "46d3839f",
   "metadata": {},
   "source": [
    "# 1 입출력과 사칙연산"
   ]
  },
  {
   "cell_type": "markdown",
   "id": "2354ffaf",
   "metadata": {},
   "source": [
    "##  Hello World!를 출력하시오"
   ]
  },
  {
   "cell_type": "code",
   "execution_count": 2,
   "id": "6f1c6319",
   "metadata": {},
   "outputs": [
    {
     "name": "stdout",
     "output_type": "stream",
     "text": [
      "Hello World!\n"
     ]
    }
   ],
   "source": [
    "print(\"Hello World!\")"
   ]
  },
  {
   "cell_type": "markdown",
   "id": "ef3cb021",
   "metadata": {},
   "source": [
    "## 강한친구 대한육군 \n",
    "## 강한친구 대한육군"
   ]
  },
  {
   "cell_type": "code",
   "execution_count": 8,
   "id": "691f60c0",
   "metadata": {},
   "outputs": [
    {
     "name": "stdout",
     "output_type": "stream",
     "text": [
      "강한친구 대한육군\n",
      "강한친구 대한육군\n"
     ]
    }
   ],
   "source": [
    "for i in range(2):\n",
    "    print(\"강한친구 대한육군\")"
   ]
  },
  {
   "cell_type": "markdown",
   "id": "4188a90e",
   "metadata": {},
   "source": [
    "## 아래와 같은 고양이 출력하시오"
   ]
  },
  {
   "cell_type": "markdown",
   "id": "85068339",
   "metadata": {},
   "source": [
    "###  \\    /\\\n",
    "###  )  ( ')\n",
    "###  (  /  )\n",
    "###  \\ (__)|\n",
    "\n",
    "10171번 문제"
   ]
  },
  {
   "cell_type": "code",
   "execution_count": 16,
   "id": "677ecd30",
   "metadata": {},
   "outputs": [
    {
     "name": "stdout",
     "output_type": "stream",
     "text": [
      "\\    /\\\n",
      " )  ( ')\n",
      "(  /  )\n",
      " \\(__)|\n"
     ]
    }
   ],
   "source": [
    "print(\"\\    /\\\\\") #\\을 출력하려면 \\앞에 \\를 붙여준다\n",
    "print(\" )  ( ')\")\n",
    "print(\"(  /  )\")\n",
    "print(\" \\(__)|\")"
   ]
  },
  {
   "cell_type": "markdown",
   "id": "edb5a2e3",
   "metadata": {},
   "source": [
    "## 아래와 같이 개를 출력하시오"
   ]
  },
  {
   "cell_type": "markdown",
   "id": "3b8cc59c",
   "metadata": {},
   "source": [
    "10172번 문제\n",
    "### |\\_/|\n",
    "### |q p|   /}\n",
    "### ( 0 )\"\"\"\\\n",
    "### |\"^\"`    |\n",
    "### ||_/=\\\\__|"
   ]
  },
  {
   "cell_type": "code",
   "execution_count": 28,
   "id": "9213205f",
   "metadata": {},
   "outputs": [
    {
     "name": "stdout",
     "output_type": "stream",
     "text": [
      "|\\_/|\n",
      "|q p|   /}\n",
      "( 0 )\"\"\"\\\n",
      "|\"^\"`    |\n",
      "||_/=\\\\__|\n"
     ]
    }
   ],
   "source": [
    "print(\"|\\_/|\")\n",
    "print(\"|q p|   /}\")\n",
    "print('( 0 )\"\"\"\\\\')  # \\'앞에 \\을 붙여준다.\n",
    "print('|\"^\"`    |')\n",
    "print(\"||_/=\\\\\\__|\")  # \\\\ 앞에 \\을 하나 더 붙여준다."
   ]
  },
  {
   "cell_type": "markdown",
   "id": "1fc98eae",
   "metadata": {},
   "source": [
    "## 정수 A와 B를 입력 받은 다음 A+B를 출력하시오"
   ]
  },
  {
   "cell_type": "code",
   "execution_count": 29,
   "id": "fa55a70a",
   "metadata": {},
   "outputs": [
    {
     "name": "stdout",
     "output_type": "stream",
     "text": [
      "1 2\n",
      "3\n"
     ]
    }
   ],
   "source": [
    "a,b=map(int, input().split())\n",
    "print(a+b)"
   ]
  },
  {
   "cell_type": "markdown",
   "id": "39dcab0f",
   "metadata": {},
   "source": [
    "## 정수 A와 B를 입력 받은 다음 A-B를 출력하시오"
   ]
  },
  {
   "cell_type": "code",
   "execution_count": 34,
   "id": "d4304557",
   "metadata": {},
   "outputs": [
    {
     "name": "stdout",
     "output_type": "stream",
     "text": [
      "3 2\n",
      "1\n"
     ]
    }
   ],
   "source": [
    "a,b=map(int,input().split())\n",
    "print(a-b)"
   ]
  },
  {
   "cell_type": "markdown",
   "id": "4c79a16e",
   "metadata": {},
   "source": [
    "## 정수 A와 B를 입력 받은 다음 A*B를 출력하시오"
   ]
  },
  {
   "cell_type": "code",
   "execution_count": 33,
   "id": "23a1fac7",
   "metadata": {},
   "outputs": [
    {
     "name": "stdout",
     "output_type": "stream",
     "text": [
      "2 3\n",
      "6\n"
     ]
    }
   ],
   "source": [
    "A,B=map(int,input().split())\n",
    "print(A*B)"
   ]
  },
  {
   "cell_type": "markdown",
   "id": "2ca25bed",
   "metadata": {},
   "source": [
    "## 정수 A와 B를 입력 받은 다음 A/B를 출력하시오\n",
    "### (0<A,B<10)"
   ]
  },
  {
   "cell_type": "code",
   "execution_count": 36,
   "id": "36cb120e",
   "metadata": {},
   "outputs": [
    {
     "name": "stdout",
     "output_type": "stream",
     "text": [
      "1 3\n",
      "0.3333333333333333\n"
     ]
    }
   ],
   "source": [
    "A,B=map(int,input().split())\n",
    "print(A/B)"
   ]
  },
  {
   "cell_type": "code",
   "execution_count": 37,
   "id": "e2df617c",
   "metadata": {},
   "outputs": [
    {
     "name": "stdout",
     "output_type": "stream",
     "text": [
      "4 5\n",
      "0.8\n"
     ]
    }
   ],
   "source": [
    "A,B=map(int,input().split())\n",
    "print(A/B)"
   ]
  },
  {
   "cell_type": "markdown",
   "id": "be244274",
   "metadata": {},
   "source": [
    "## 두 자연수 A와 B가 주어진다. 이때, A+B, A-B, A*B, A/B(몫), A%B(나머지)를 출력하는 프로그램을 작성하시오. "
   ]
  },
  {
   "cell_type": "code",
   "execution_count": 39,
   "id": "6dde283a",
   "metadata": {},
   "outputs": [
    {
     "name": "stdout",
     "output_type": "stream",
     "text": [
      "7 3\n",
      "10\n",
      "4\n",
      "21\n",
      "2\n",
      "1\n"
     ]
    }
   ],
   "source": [
    "A,B=map(int,input().split())\n",
    "print(A+B)\n",
    "print(A-B)\n",
    "print(A*B)\n",
    "print(A//B)\n",
    "print(A%B)"
   ]
  },
  {
   "cell_type": "code",
   "execution_count": null,
   "id": "2b772e7e",
   "metadata": {},
   "outputs": [],
   "source": []
  }
 ],
 "metadata": {
  "kernelspec": {
   "display_name": "Python 3 (ipykernel)",
   "language": "python",
   "name": "python3"
  },
  "language_info": {
   "codemirror_mode": {
    "name": "ipython",
    "version": 3
   },
   "file_extension": ".py",
   "mimetype": "text/x-python",
   "name": "python",
   "nbconvert_exporter": "python",
   "pygments_lexer": "ipython3",
   "version": "3.9.6"
  }
 },
 "nbformat": 4,
 "nbformat_minor": 5
}
